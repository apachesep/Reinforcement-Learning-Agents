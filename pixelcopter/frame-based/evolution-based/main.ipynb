{
 "cells": [
  {
   "cell_type": "code",
   "execution_count": 1,
   "metadata": {},
   "outputs": [
    {
     "name": "stderr",
     "output_type": "stream",
     "text": [
      "Using TensorFlow backend.\n"
     ]
    },
    {
     "name": "stdout",
     "output_type": "stream",
     "text": [
      "couldn't import doomish\n",
      "Couldn't import doom\n"
     ]
    }
   ],
   "source": [
    "import numpy as np\n",
    "import keras\n",
    "from keras.models import Sequential\n",
    "from keras.layers import Dense, Flatten\n",
    "from keras.layers import Conv2D, MaxPooling2D\n",
    "from copter import *"
   ]
  },
  {
   "cell_type": "code",
   "execution_count": 2,
   "metadata": {},
   "outputs": [],
   "source": [
    "class Model:\n",
    "    def __init__(self):\n",
    "        self.model = Sequential()\n",
    "        self.model.add(Conv2D(16, (8, 8), strides = 4, padding='same',input_shape=(80, 80, 4)))\n",
    "        self.model.add(MaxPooling2D(pool_size=(2, 2)))\n",
    "        self.model.add(Conv2D(32, (4, 4), strides = 2, padding='same'))\n",
    "        self.model.add(MaxPooling2D(pool_size=(2, 2)))\n",
    "        self.model.add(Flatten())\n",
    "        self.model.add(Dense(512))\n",
    "        self.model.add(Dense(2))\n",
    "        self.weights = self.model.get_weights()\n",
    "    \n",
    "    def predict(self, inputs):\n",
    "        return self.model.predict(inputs)\n",
    "    \n",
    "    def get_weights(self):\n",
    "        return self.weights\n",
    "\n",
    "    def set_weights(self, weights):\n",
    "        self.model.set_weights(weights)"
   ]
  },
  {
   "cell_type": "code",
   "execution_count": 3,
   "metadata": {},
   "outputs": [],
   "source": [
    "model = Model()\n",
    "agent = Agent(model, screen=True, forcefps=True)"
   ]
  },
  {
   "cell_type": "code",
   "execution_count": 4,
   "metadata": {},
   "outputs": [
    {
     "name": "stdout",
     "output_type": "stream",
     "text": [
      "iter 2. reward: -2.999800\n",
      "iter 4. reward: -2.999700\n",
      "iter 6. reward: -2.999600\n",
      "iter 8. reward: -2.999500\n",
      "iter 10. reward: -2.999900\n",
      "iter 12. reward: -3.999500\n",
      "iter 14. reward: -3.000100\n",
      "iter 16. reward: -2.999600\n",
      "iter 18. reward: -4.000400\n",
      "iter 20. reward: -3.000100\n",
      "iter 22. reward: -2.999400\n",
      "iter 24. reward: -2.999300\n",
      "iter 26. reward: -2.998600\n",
      "iter 28. reward: -3.000800\n",
      "iter 30. reward: -3.000400\n",
      "iter 32. reward: -2.999500\n",
      "iter 34. reward: -4.000700\n",
      "iter 36. reward: -2.999500\n",
      "iter 38. reward: -3.000500\n",
      "iter 40. reward: -3.000300\n",
      "iter 42. reward: -3.000900\n",
      "iter 44. reward: -4.000300\n",
      "iter 46. reward: -3.999300\n",
      "iter 48. reward: -3.000000\n",
      "iter 50. reward: -4.000300\n",
      "time taken to train: 49.9765784740448 seconds\n"
     ]
    }
   ],
   "source": [
    "# train here\n",
    "# just press stop if fit enough\n",
    "agent.fit(50, 2)"
   ]
  },
  {
   "cell_type": "code",
   "execution_count": 5,
   "metadata": {},
   "outputs": [
    {
     "name": "stdout",
     "output_type": "stream",
     "text": [
      "game over!\n"
     ]
    }
   ],
   "source": [
    "agent.play(debug=True)"
   ]
  },
  {
   "cell_type": "code",
   "execution_count": null,
   "metadata": {},
   "outputs": [],
   "source": []
  }
 ],
 "metadata": {
  "kernelspec": {
   "display_name": "Python 3",
   "language": "python",
   "name": "python3"
  },
  "language_info": {
   "codemirror_mode": {
    "name": "ipython",
    "version": 3
   },
   "file_extension": ".py",
   "mimetype": "text/x-python",
   "name": "python",
   "nbconvert_exporter": "python",
   "pygments_lexer": "ipython3",
   "version": "3.5.2"
  }
 },
 "nbformat": 4,
 "nbformat_minor": 2
}
