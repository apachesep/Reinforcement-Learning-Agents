{
 "cells": [
  {
   "cell_type": "code",
   "execution_count": 1,
   "metadata": {},
   "outputs": [
    {
     "name": "stdout",
     "output_type": "stream",
     "text": [
      "couldn't import doomish\n",
      "Couldn't import doom\n"
     ]
    }
   ],
   "source": [
    "from deep_q_flappy import *\n",
    "import pickle"
   ]
  },
  {
   "cell_type": "code",
   "execution_count": 2,
   "metadata": {},
   "outputs": [],
   "source": [
    "class Model:\n",
    "    def __init__(self, input_size, layer_size, output_size):\n",
    "        self.weights = [np.random.randn(input_size, layer_size), \n",
    "                        np.random.randn(layer_size, output_size), \n",
    "                        np.random.randn(1, layer_size)]\n",
    "    \n",
    "    def predict(self, inputs):\n",
    "        out = np.dot(inputs, self.weights[0]) + self.weights[-1]\n",
    "        out = np.dot(out, self.weights[1])\n",
    "        return out\n",
    "    \n",
    "    def get_weights(self):\n",
    "        return self.weights\n",
    "\n",
    "    def set_weights(self, weights):\n",
    "        self.weights = weights"
   ]
  },
  {
   "cell_type": "code",
   "execution_count": 3,
   "metadata": {},
   "outputs": [],
   "source": [
    "model = Model(8, 500, 2)"
   ]
  },
  {
   "cell_type": "code",
   "execution_count": null,
   "metadata": {},
   "outputs": [],
   "source": [
    "agent = Agent(model, screen=True, forcefps=True)"
   ]
  },
  {
   "cell_type": "code",
   "execution_count": null,
   "metadata": {
    "scrolled": true
   },
   "outputs": [
    {
     "name": "stdout",
     "output_type": "stream",
     "text": [
      "iter 50. reward: -1215628.634978\n",
      "iter 100. reward: -899114.442395\n",
      "iter 150. reward: -7034757.335027\n",
      "iter 200. reward: -1483864.115738\n",
      "iter 250. reward: -5310875.745660\n",
      "iter 300. reward: -12468414.405793\n",
      "iter 350. reward: -3210762.918092\n",
      "iter 400. reward: -1178539.957704\n",
      "iter 450. reward: -7693501.267699\n",
      "iter 500. reward: -7323840.645199\n",
      "iter 550. reward: -2371366.865107\n",
      "iter 600. reward: -10166927.017514\n",
      "iter 650. reward: -19061609.528439\n",
      "iter 700. reward: -14567786.046659\n",
      "iter 750. reward: -2746698.629696\n"
     ]
    }
   ],
   "source": [
    "# train here\n",
    "# just press stop if fit enough\n",
    "agent.fit(1000, 50)"
   ]
  },
  {
   "cell_type": "code",
   "execution_count": null,
   "metadata": {},
   "outputs": [],
   "source": [
    "agent.play(debug=True)"
   ]
  },
  {
   "cell_type": "code",
   "execution_count": null,
   "metadata": {},
   "outputs": [],
   "source": []
  }
 ],
 "metadata": {
  "kernelspec": {
   "display_name": "Python 3",
   "language": "python",
   "name": "python3"
  },
  "language_info": {
   "codemirror_mode": {
    "name": "ipython",
    "version": 3
   },
   "file_extension": ".py",
   "mimetype": "text/x-python",
   "name": "python",
   "nbconvert_exporter": "python",
   "pygments_lexer": "ipython3",
   "version": "3.5.2"
  }
 },
 "nbformat": 4,
 "nbformat_minor": 2
}
