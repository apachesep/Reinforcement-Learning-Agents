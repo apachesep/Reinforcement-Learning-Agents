{
 "cells": [
  {
   "cell_type": "code",
   "execution_count": 1,
   "metadata": {},
   "outputs": [
    {
     "name": "stdout",
     "output_type": "stream",
     "text": [
      "couldn't import doomish\n",
      "Couldn't import doom\n"
     ]
    }
   ],
   "source": [
    "from flappy import *"
   ]
  },
  {
   "cell_type": "code",
   "execution_count": 2,
   "metadata": {},
   "outputs": [],
   "source": [
    "agent = Agent(screen=True, forcefps=True)"
   ]
  },
  {
   "cell_type": "code",
   "execution_count": 3,
   "metadata": {},
   "outputs": [
    {
     "name": "stdout",
     "output_type": "stream",
     "text": [
      "epoch: 50 total rewards: -5.0\n",
      "epoch: 50 cost: 58121.9\n",
      "epoch: 100 total rewards: -5.0\n",
      "epoch: 100 cost: 1.40232e+06\n",
      "epoch: 150 total rewards: -5.0\n",
      "epoch: 150 cost: 3.04269e+06\n",
      "epoch: 200 total rewards: -5.0\n",
      "epoch: 200 cost: 152683.0\n",
      "epoch: 250 total rewards: -5.0\n",
      "epoch: 250 cost: 508601.0\n",
      "epoch: 300 total rewards: -3.0\n",
      "epoch: 300 cost: 558927.0\n",
      "epoch: 350 total rewards: -5.0\n",
      "epoch: 350 cost: 2.08546e+06\n",
      "epoch: 400 total rewards: -4.0\n",
      "epoch: 400 cost: 38850.4\n",
      "epoch: 450 total rewards: -3.0\n",
      "epoch: 450 cost: 152353.0\n",
      "epoch: 500 total rewards: -4.0\n",
      "epoch: 500 cost: 124837.0\n",
      "epoch: 550 total rewards: -5.0\n",
      "epoch: 550 cost: 36251.4\n",
      "epoch: 600 total rewards: -5.0\n",
      "epoch: 600 cost: 1.49762e+06\n",
      "epoch: 650 total rewards: -5.0\n",
      "epoch: 650 cost: 3.59498e+06\n",
      "epoch: 700 total rewards: -3.0\n",
      "epoch: 700 cost: 374108.0\n",
      "epoch: 750 total rewards: -4.0\n",
      "epoch: 750 cost: 40510.6\n",
      "epoch: 800 total rewards: -5.0\n",
      "epoch: 800 cost: 244894.0\n",
      "epoch: 850 total rewards: -5.0\n",
      "epoch: 850 cost: 86073.7\n",
      "epoch: 900 total rewards: -5.0\n",
      "epoch: 900 cost: 74632.8\n",
      "epoch: 950 total rewards: -5.0\n",
      "epoch: 950 cost: 108013.0\n",
      "epoch: 1000 total rewards: -5.0\n",
      "epoch: 1000 cost: 25077.2\n",
      "epoch: 1050 total rewards: -5.0\n",
      "epoch: 1050 cost: 38564.2\n",
      "epoch: 1100 total rewards: -4.0\n",
      "epoch: 1100 cost: 467291.0\n",
      "epoch: 1150 total rewards: -5.0\n",
      "epoch: 1150 cost: 104898.0\n",
      "epoch: 1200 total rewards: -4.0\n",
      "epoch: 1200 cost: 15664.6\n",
      "epoch: 1250 total rewards: -2.0\n",
      "epoch: 1250 cost: 74745.8\n",
      "epoch: 1300 total rewards: -4.0\n",
      "epoch: 1300 cost: 17672.9\n",
      "epoch: 1350 total rewards: -5.0\n",
      "epoch: 1350 cost: 68212.6\n",
      "epoch: 1400 total rewards: -5.0\n",
      "epoch: 1400 cost: 20150.7\n",
      "epoch: 1450 total rewards: -5.0\n",
      "epoch: 1450 cost: 17714.5\n",
      "epoch: 1500 total rewards: -4.0\n",
      "epoch: 1500 cost: 1.07073e+06\n",
      "epoch: 1550 total rewards: -5.0\n",
      "epoch: 1550 cost: 10286.9\n",
      "epoch: 1600 total rewards: -4.0\n",
      "epoch: 1600 cost: 19482.8\n",
      "epoch: 1650 total rewards: -5.0\n",
      "epoch: 1650 cost: 88658.2\n",
      "epoch: 1700 total rewards: -2.0\n",
      "epoch: 1700 cost: 2.78191e+06\n",
      "epoch: 1750 total rewards: -4.0\n",
      "epoch: 1750 cost: 16472.3\n",
      "epoch: 1800 total rewards: -5.0\n",
      "epoch: 1800 cost: 18398.4\n",
      "epoch: 1850 total rewards: -5.0\n",
      "epoch: 1850 cost: 6937.9\n",
      "epoch: 1900 total rewards: -2.0\n",
      "epoch: 1900 cost: 34322.5\n",
      "epoch: 1950 total rewards: -5.0\n",
      "epoch: 1950 cost: 23302.3\n",
      "epoch: 2000 total rewards: -5.0\n",
      "epoch: 2000 cost: 21184.3\n"
     ]
    }
   ],
   "source": [
    "agent.fit(2000, 50)"
   ]
  },
  {
   "cell_type": "code",
   "execution_count": 4,
   "metadata": {},
   "outputs": [
    {
     "name": "stdout",
     "output_type": "stream",
     "text": [
      "game over!\n"
     ]
    }
   ],
   "source": [
    "agent.play(debug=True)"
   ]
  },
  {
   "cell_type": "code",
   "execution_count": 7,
   "metadata": {},
   "outputs": [
    {
     "data": {
      "image/png": "[encoded data removed]",
      "text/plain": [
       "<matplotlib.figure.Figure at 0x7f97764351d0>"
      ]
     },
     "metadata": {},
     "output_type": "display_data"
    }
   ],
   "source": [
    "import matplotlib.pyplot as plt\n",
    "import seaborn as sns\n",
    "sns.set()\n",
    "plt.figure(figsize=(10,5))\n",
    "plt.plot(np.arange(len(agent.rewards)), agent.rewards)\n",
    "plt.show()"
   ]
  },
  {
   "cell_type": "code",
   "execution_count": 6,
   "metadata": {},
   "outputs": [],
   "source": [
    "agent.save('flap-flap')"
   ]
  },
  {
   "cell_type": "code",
   "execution_count": null,
   "metadata": {},
   "outputs": [],
   "source": []
  }
 ],
 "metadata": {
  "kernelspec": {
   "display_name": "Python 3",
   "language": "python",
   "name": "python3"
  },
  "language_info": {
   "codemirror_mode": {
    "name": "ipython",
    "version": 3
   },
   "file_extension": ".py",
   "mimetype": "text/x-python",
   "name": "python",
   "nbconvert_exporter": "python",
   "pygments_lexer": "ipython3",
   "version": "3.5.2"
  }
 },
 "nbformat": 4,
 "nbformat_minor": 2
}
