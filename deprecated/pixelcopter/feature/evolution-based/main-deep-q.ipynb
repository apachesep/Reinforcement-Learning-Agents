{
 "cells": [
  {
   "cell_type": "code",
   "execution_count": 1,
   "metadata": {},
   "outputs": [
    {
     "name": "stdout",
     "output_type": "stream",
     "text": [
      "couldn't import doomish\n",
      "Couldn't import doom\n"
     ]
    }
   ],
   "source": [
    "from deep_q_copter import *"
   ]
  },
  {
   "cell_type": "code",
   "execution_count": 2,
   "metadata": {},
   "outputs": [],
   "source": [
    "class Model:\n",
    "    def __init__(self, input_size, layer_size, output_size):\n",
    "        self.weights = [np.random.randn(input_size, layer_size), \n",
    "                        np.random.randn(layer_size, output_size), \n",
    "                        np.random.randn(1, layer_size)]\n",
    "    \n",
    "    def predict(self, inputs):\n",
    "        out = np.dot(inputs, self.weights[0]) + self.weights[-1]\n",
    "        out = np.dot(out, self.weights[1])\n",
    "        return out\n",
    "    \n",
    "    def get_weights(self):\n",
    "        return self.weights\n",
    "\n",
    "    def set_weights(self, weights):\n",
    "        self.weights = weights"
   ]
  },
  {
   "cell_type": "code",
   "execution_count": 3,
   "metadata": {},
   "outputs": [],
   "source": [
    "model = Model(7, 500, 2)"
   ]
  },
  {
   "cell_type": "code",
   "execution_count": 4,
   "metadata": {},
   "outputs": [],
   "source": [
    "agent = Agent(model, screen=True, forcefps=True)"
   ]
  },
  {
   "cell_type": "code",
   "execution_count": 5,
   "metadata": {
    "scrolled": true
   },
   "outputs": [
    {
     "name": "stdout",
     "output_type": "stream",
     "text": [
      "iter 50. reward: -542740.510057\n",
      "iter 100. reward: -1221637.402329\n",
      "iter 150. reward: -2830467.014486\n",
      "iter 200. reward: -2774436.737988\n",
      "iter 250. reward: -419611.368937\n",
      "iter 300. reward: -2291002.497640\n",
      "iter 350. reward: -7373093.831683\n",
      "iter 400. reward: -1771187.727263\n",
      "iter 450. reward: -4709369.536444\n",
      "iter 500. reward: -2126114.374033\n",
      "iter 550. reward: -8479412.074914\n",
      "iter 600. reward: -2562171.775454\n",
      "iter 650. reward: -1556953.273274\n",
      "iter 700. reward: -2633317.805178\n",
      "iter 750. reward: -7441264.857557\n",
      "iter 800. reward: -2941746.101766\n",
      "iter 850. reward: -3710798.765074\n",
      "iter 900. reward: -1922505.887634\n",
      "iter 950. reward: -5360250.605487\n",
      "iter 1000. reward: -12124467.498408\n",
      "time taken to train: 93.10026049613953 seconds\n"
     ]
    }
   ],
   "source": [
    "# train here\n",
    "# just press stop if fit enough\n",
    "agent.fit(1000, 50)"
   ]
  },
  {
   "cell_type": "code",
   "execution_count": 6,
   "metadata": {},
   "outputs": [
    {
     "name": "stdout",
     "output_type": "stream",
     "text": [
      "game over!\n"
     ]
    }
   ],
   "source": [
    "agent.play(debug=True)"
   ]
  },
  {
   "cell_type": "code",
   "execution_count": null,
   "metadata": {},
   "outputs": [],
   "source": []
  }
 ],
 "metadata": {
  "kernelspec": {
   "display_name": "Python 3",
   "language": "python",
   "name": "python3"
  },
  "language_info": {
   "codemirror_mode": {
    "name": "ipython",
    "version": 3
   },
   "file_extension": ".py",
   "mimetype": "text/x-python",
   "name": "python",
   "nbconvert_exporter": "python",
   "pygments_lexer": "ipython3",
   "version": "3.5.2"
  }
 },
 "nbformat": 4,
 "nbformat_minor": 2
}
