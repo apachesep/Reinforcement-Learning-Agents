{
 "cells": [
  {
   "cell_type": "code",
   "execution_count": 1,
   "metadata": {},
   "outputs": [
    {
     "name": "stdout",
     "output_type": "stream",
     "text": [
      "couldn't import doomish\n",
      "Couldn't import doom\n"
     ]
    }
   ],
   "source": [
    "from flappy import *"
   ]
  },
  {
   "cell_type": "code",
   "execution_count": 2,
   "metadata": {},
   "outputs": [],
   "source": [
    "agent = Agent(screen=True, forcefps=True)"
   ]
  },
  {
   "cell_type": "code",
   "execution_count": 3,
   "metadata": {},
   "outputs": [
    {
     "name": "stdout",
     "output_type": "stream",
     "text": [
      "epoch: 50 total rewards: -5.0\n",
      "epoch: 50 cost: 1.22869e+07\n",
      "epoch: 100 total rewards: -5.0\n",
      "epoch: 100 cost: 77477.8\n",
      "epoch: 150 total rewards: -5.0\n",
      "epoch: 150 cost: 44800.3\n",
      "epoch: 200 total rewards: -5.0\n",
      "epoch: 200 cost: 146490.0\n",
      "epoch: 250 total rewards: -5.0\n",
      "epoch: 250 cost: 6.49098e+06\n",
      "epoch: 300 total rewards: -5.0\n",
      "epoch: 300 cost: 499577.0\n",
      "epoch: 350 total rewards: -4.0\n",
      "epoch: 350 cost: 1.62305e+06\n",
      "epoch: 400 total rewards: -4.0\n",
      "epoch: 400 cost: 326610.0\n",
      "epoch: 450 total rewards: -5.0\n",
      "epoch: 450 cost: 187443.0\n",
      "epoch: 500 total rewards: -5.0\n",
      "epoch: 500 cost: 35316.4\n",
      "epoch: 550 total rewards: -2.0\n",
      "epoch: 550 cost: 618453.0\n",
      "epoch: 600 total rewards: -4.0\n",
      "epoch: 600 cost: 38761.3\n",
      "epoch: 650 total rewards: -4.0\n",
      "epoch: 650 cost: 198460.0\n",
      "epoch: 700 total rewards: -4.0\n",
      "epoch: 700 cost: 36487.8\n",
      "epoch: 750 total rewards: -3.0\n",
      "epoch: 750 cost: 472332.0\n",
      "epoch: 800 total rewards: -4.0\n",
      "epoch: 800 cost: 126379.0\n",
      "epoch: 850 total rewards: -4.0\n",
      "epoch: 850 cost: 1.28508e+07\n",
      "epoch: 900 total rewards: 0.0\n",
      "epoch: 900 cost: 193184.0\n",
      "epoch: 950 total rewards: -4.0\n",
      "epoch: 950 cost: 19486.0\n",
      "epoch: 1000 total rewards: -4.0\n",
      "epoch: 1000 cost: 128757.0\n",
      "epoch: 1050 total rewards: -5.0\n",
      "epoch: 1050 cost: 133547.0\n",
      "epoch: 1100 total rewards: -4.0\n",
      "epoch: 1100 cost: 47993.5\n",
      "epoch: 1150 total rewards: -5.0\n",
      "epoch: 1150 cost: 40750.9\n",
      "epoch: 1200 total rewards: -5.0\n",
      "epoch: 1200 cost: 33300.6\n",
      "epoch: 1250 total rewards: -4.0\n",
      "epoch: 1250 cost: 1.03499e+07\n",
      "epoch: 1300 total rewards: -5.0\n",
      "epoch: 1300 cost: 48311.6\n",
      "epoch: 1350 total rewards: -5.0\n",
      "epoch: 1350 cost: 27924.8\n",
      "epoch: 1400 total rewards: -5.0\n",
      "epoch: 1400 cost: 10295.0\n",
      "epoch: 1450 total rewards: -4.0\n",
      "epoch: 1450 cost: 51661.4\n",
      "epoch: 1500 total rewards: -5.0\n",
      "epoch: 1500 cost: 121735.0\n",
      "epoch: 1550 total rewards: -4.0\n",
      "epoch: 1550 cost: 7958.01\n",
      "epoch: 1600 total rewards: -5.0\n",
      "epoch: 1600 cost: 1.30707e+06\n",
      "epoch: 1650 total rewards: -4.0\n",
      "epoch: 1650 cost: 9713.76\n",
      "epoch: 1700 total rewards: -2.0\n",
      "epoch: 1700 cost: 42634.1\n",
      "epoch: 1750 total rewards: -5.0\n",
      "epoch: 1750 cost: 7401.66\n",
      "epoch: 1800 total rewards: -5.0\n",
      "epoch: 1800 cost: 6917.15\n",
      "epoch: 1850 total rewards: -2.0\n",
      "epoch: 1850 cost: 2.57365e+06\n",
      "epoch: 1900 total rewards: -5.0\n",
      "epoch: 1900 cost: 375837.0\n",
      "epoch: 1950 total rewards: -4.0\n",
      "epoch: 1950 cost: 32119.2\n",
      "epoch: 2000 total rewards: -5.0\n",
      "epoch: 2000 cost: 28171.1\n"
     ]
    }
   ],
   "source": [
    "agent.fit(2000, 50)"
   ]
  },
  {
   "cell_type": "code",
   "execution_count": 8,
   "metadata": {},
   "outputs": [
    {
     "name": "stdout",
     "output_type": "stream",
     "text": [
      "erm, do nothing.. total rewards: 1.0\n",
      "erm, do nothing.. total rewards: 2.0\n",
      "erm, do nothing.. total rewards: 3.0\n",
      "erm, do nothing.. total rewards: 4.0\n",
      "erm, do nothing.. total rewards: 5.0\n",
      "erm, do nothing.. total rewards: 6.0\n",
      "game over!\n"
     ]
    }
   ],
   "source": [
    "agent.play(debug=True)"
   ]
  },
  {
   "cell_type": "code",
   "execution_count": 7,
   "metadata": {},
   "outputs": [
    {
     "data": {
      "image/png": "[encoded data removed]",
      "text/plain": [
       "<matplotlib.figure.Figure at 0x7f66650c9470>"
      ]
     },
     "metadata": {},
     "output_type": "display_data"
    }
   ],
   "source": [
    "import matplotlib.pyplot as plt\n",
    "import seaborn as sns\n",
    "sns.set()\n",
    "plt.figure(figsize=(10,5))\n",
    "plt.plot(np.arange(len(agent.rewards)), agent.rewards)\n",
    "plt.show()"
   ]
  },
  {
   "cell_type": "code",
   "execution_count": 6,
   "metadata": {},
   "outputs": [],
   "source": [
    "agent.save('flap-flap')"
   ]
  },
  {
   "cell_type": "code",
   "execution_count": null,
   "metadata": {},
   "outputs": [],
   "source": []
  }
 ],
 "metadata": {
  "kernelspec": {
   "display_name": "Python 3",
   "language": "python",
   "name": "python3"
  },
  "language_info": {
   "codemirror_mode": {
    "name": "ipython",
    "version": 3
   },
   "file_extension": ".py",
   "mimetype": "text/x-python",
   "name": "python",
   "nbconvert_exporter": "python",
   "pygments_lexer": "ipython3",
   "version": "3.5.2"
  }
 },
 "nbformat": 4,
 "nbformat_minor": 2
}
